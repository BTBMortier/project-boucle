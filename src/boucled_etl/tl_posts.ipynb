{
 "cells": [
  {
   "cell_type": "code",
   "execution_count": 2,
   "metadata": {},
   "outputs": [],
   "source": [
    "import re \n",
    "import os\n",
    "import json\n",
    "import pandas\n",
    "import shutil \n",
    "import psycopg2\n",
    "from bs4 import BeautifulSoup\n",
    "\n",
    "from pyspark.sql import Row\n",
    "from pyspark import SparkContext\n",
    "from pyspark.sql import SQLContext\n",
    "from pyspark.sql import SparkSession\n",
    "from pyspark.sql.types import StringType\n",
    "from pyspark.sql.functions import udf,col,regexp_extract,regexp_replace\n",
    "\n",
    "\n",
    "sc = SparkSession.builder.getOrCreate()\n",
    "sqlsc = SQLContext(sc)"
   ]
  },
  {
   "cell_type": "code",
   "execution_count": 2,
   "metadata": {},
   "outputs": [],
   "source": [
    "def clean_timestamp(timestamp):\n",
    "    months = {\n",
    "        \"janvier\":\"01\",\n",
    "        \"février\":\"02\",\n",
    "        \"mars\":\"03\",\n",
    "        \"avril\":\"04\",\n",
    "        \"mai\":\"05\",\n",
    "        \"juin\":\"06\",\n",
    "        \"juillet\":\"07\",\n",
    "        \"août\":\"08\",\n",
    "        \"septembre\":\"09\",\n",
    "        \"octobre\":\"10\",\n",
    "        \"novembre\":\"11\",\n",
    "        \"décembre\":\"12\"}\n",
    "    day_regex  = \"(\\d{2})\\s[^à]\" #first group only\n",
    "    year_regex = \"\\d{4}\"\n",
    "    time_regex = \"\\d{2}:\\d{2}:\\d{2}\"\n",
    "    day_regex  = re.compile(day_regex)\n",
    "    year_regex = re.compile(year_regex)\n",
    "    time_regex = re.compile(time_regex)\n",
    "    day = day_regex.search(timestamp).group(1)\n",
    "    year = year_regex.search(timestamp).group(0)\n",
    "    time = time_regex.search(timestamp).group(0).replace(\":\",\"\")\n",
    "    final_timestamp = f\"{day}-{month}-{year}-{time}\"\n",
    "    return final_timestamp\n",
    "    \n",
    "def clean_post_text(post_text):\n",
    "    #Parsing html\n",
    "    clean_text = \"\"\n",
    "    soup = BeautifulSoup(post_text,\"html.parser\")\n",
    "    for tag in soup(\"blockquote.blockquote-jv\"):\n",
    "        tag.clear()\n",
    "        \n",
    "    #Boucler sur la liste d'élements à l'envers est le meilleur moment \n",
    "    for elem in list(soup)[::-1]:\n",
    "        if elem.name == \"p\":\n",
    "            clean_text += elem.get_text()\n",
    "        else:\n",
    "            break\n",
    "    \n",
    "    return clean_text"
   ]
  },
  {
   "cell_type": "code",
   "execution_count": 3,
   "metadata": {
    "scrolled": true
   },
   "outputs": [
    {
     "name": "stdout",
     "output_type": "stream",
     "text": [
      "+--------------------+--------------+----+----------+--------------------+--------------------+--------------------+--------+---+-----+----+--------+\n",
      "|                 _id|        author|page|   post_id|           post_text|           text_hash|           timestamp|topic_id|day|month|year|    time|\n",
      "+--------------------+--------------+----+----------+--------------------+--------------------+--------------------+--------+---+-----+----+--------+\n",
      "|6273aa04a5de58047...|CimerYokoTaro5|   6|1181250640|Édit: d’autant qu...|PHA+TGUgICAgICAgI...|05 mai 2022 à 12:...|69646416| 05|   05|2022|12:12:27|\n",
      "|6273aa04a5de58047...| Kyle_READYDNT|   6|1181250720|\\nL'OP si il a le...|PHA+TGUgICAgICAgI...|05 mai 2022 à 12:...|69646416| 05|   05|2022|12:13:28|\n",
      "|6273aa04a5de58047...|  Covidboomer7|   6|1181250760|C'est toujours la...|PHA+TGUgICAgICAgI...|05 mai 2022 à 12:...|69646416| 05|   05|2022|12:13:47|\n",
      "|6273aa04a5de58047...|CimerYokoTaro5|   6|1181250824|C’est un argument...|PHA+TGUgICAgICAgI...|05 mai 2022 à 12:...|69646416| 05|   05|2022|12:14:36|\n",
      "|6273aa04a5de58047...|    LilTekashi|   6|1181250880|Ah oui donc les n...|PHA+TGUgICAgICAgI...|05 mai 2022 à 12:...|69646416| 05|   05|2022|12:15:21|\n",
      "+--------------------+--------------+----+----------+--------------------+--------------------+--------------------+--------+---+-----+----+--------+\n",
      "only showing top 5 rows\n",
      "\n"
     ]
    }
   ],
   "source": [
    "in_path  = \"./../boucled_scrapers/spiders/out/posts\"\n",
    "out_path = \"./../boucled_scrapers/spiders/out/posts/processed\" \n",
    "posts_df = sqlsc.read.json(out_path)\n",
    "timestamp_regex = \"(\\d{2})\\s(\\D{3,9})\\s(\\d{4})\\s[à]\\s(\\d{2}:\\d{2}:\\d{2})\"\n",
    "#g1:day|g2:month|g3:year|g4:time\n",
    "months = {\n",
    "        \"janvier\":\"01\",\n",
    "        \"février\":\"02\",\n",
    "        \"mars\":\"03\",\n",
    "        \"avril\":\"04\",\n",
    "        \"mai\":\"05\",\n",
    "        \"juin\":\"06\",\n",
    "        \"juillet\":\"07\",\n",
    "        \"août\":\"08\",\n",
    "        \"septembre\":\"09\",\n",
    "        \"octobre\":\"10\",\n",
    "        \"novembre\":\"11\",\n",
    "        \"décembre\":\"12\"}\n",
    "months_udf = udf(lambda x : months[x],StringType())\n",
    "posts_df = posts_df.withColumn(\"day\", regexp_extract(col(\"timestamp\"),timestamp_regex,1))\n",
    "posts_df = posts_df.withColumn(\"month\", regexp_extract(col(\"timestamp\"),timestamp_regex,2))\n",
    "posts_df = posts_df.withColumn(\"month\",months_udf(col(\"month\")))\n",
    "posts_df = posts_df.withColumn(\"year\", regexp_extract(col(\"timestamp\"),timestamp_regex,3))\n",
    "posts_df = posts_df.withColumn(\"time\", regexp_extract(col(\"timestamp\"),timestamp_regex,4))\n",
    "\n",
    "udf_clean_text = udf(lambda x : clean_post_text(x),StringType())\n",
    "posts_df = posts_df.withColumn(\"post_text\",udf_clean_text(col(\"post_text\")))\n",
    "posts_df.show(5)"
   ]
  },
  {
   "cell_type": "code",
   "execution_count": null,
   "metadata": {
    "scrolled": true
   },
   "outputs": [],
   "source": []
  },
  {
   "cell_type": "code",
   "execution_count": null,
   "metadata": {},
   "outputs": [],
   "source": []
  },
  {
   "cell_type": "code",
   "execution_count": null,
   "metadata": {},
   "outputs": [],
   "source": []
  }
 ],
 "metadata": {
  "kernelspec": {
   "display_name": "Python 3",
   "language": "python",
   "name": "python3"
  },
  "language_info": {
   "codemirror_mode": {
    "name": "ipython",
    "version": 3
   },
   "file_extension": ".py",
   "mimetype": "text/x-python",
   "name": "python",
   "nbconvert_exporter": "python",
   "pygments_lexer": "ipython3",
   "version": "3.8.10"
  }
 },
 "nbformat": 4,
 "nbformat_minor": 4
}
