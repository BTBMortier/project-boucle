{
 "cells": [
  {
   "cell_type": "code",
   "execution_count": null,
   "metadata": {},
   "outputs": [],
   "source": [
    "import re \n",
    "import os\n",
    "import json\n",
    "import pandas\n",
    "import shutil \n",
    "import psycopg2\n",
    "from bs4 import BeautifulSoup\n",
    "\n",
    "from pyspark.sql import Row\n",
    "from pyspark import SparkConf\n",
    "from pyspark import SparkContext\n",
    "from pyspark.sql import SQLContext\n",
    "from pyspark.sql import SparkSession\n",
    "from pyspark.sql.types import StringType,IntegerType\n",
    "from pyspark.sql.functions import udf,col,regexp_extract,regexp_replace\n",
    "\n",
    "conf = SparkConf()  # create the configuration\n",
    "conf.set(\"spark.jars\", \"postgresql-42.2.6.jar\")\n",
    "\n",
    "sc = SparkSession \\\n",
    "    .builder \\\n",
    "    .config(\"spark.driver.extraClassPath\", \"./postgresql-42.2.6.jar\") \\\n",
    "    .appName(\"boucled\") \\\n",
    "    .getOrCreate()\n",
    "\n",
    "sqlsc = SQLContext(sc)"
   ]
  },
  {
   "cell_type": "code",
   "execution_count": null,
   "metadata": {},
   "outputs": [],
   "source": [
    "def clean_timestamp(timestamp):\n",
    "    months = {\n",
    "        \"janvier\":\"01\",\n",
    "        \"février\":\"02\",\n",
    "        \"mars\":\"03\",\n",
    "        \"avril\":\"04\",\n",
    "        \"mai\":\"05\",\n",
    "        \"juin\":\"06\",\n",
    "        \"juillet\":\"07\",\n",
    "        \"août\":\"08\",\n",
    "        \"septembre\":\"09\",\n",
    "        \"octobre\":\"10\",\n",
    "        \"novembre\":\"11\",\n",
    "        \"décembre\":\"12\"}\n",
    "    day_regex  = \"(\\d{2})\\s[^à]\" #first group only\n",
    "    year_regex = \"\\d{4}\"\n",
    "    time_regex = \"\\d{2}:\\d{2}:\\d{2}\"\n",
    "    day_regex  = re.compile(day_regex)\n",
    "    year_regex = re.compile(year_regex)\n",
    "    time_regex = re.compile(time_regex)\n",
    "    day = day_regex.search(timestamp).group(1)\n",
    "    year = year_regex.search(timestamp).group(0)\n",
    "    time = time_regex.search(timestamp).group(0).replace(\":\",\"\")\n",
    "    final_timestamp = f\"{day}-{month}-{year}-{time}\"\n",
    "    return final_timestamp\n",
    "    \n",
    "def clean_post_text(post_text):\n",
    "    #Parsing html\n",
    "    clean_text = \"\"\n",
    "    soup = BeautifulSoup(post_text,\"html.parser\")\n",
    "    for tag in soup(\"blockquote.blockquote-jv\"):\n",
    "        tag.clear()\n",
    "        \n",
    "    #Boucler sur la liste d'élements à l'envers est le meilleur moment \n",
    "    for elem in list(soup)[::-1]:\n",
    "        if elem.name == \"p\":\n",
    "            clean_text += elem.get_text()\n",
    "        else:\n",
    "            break\n",
    "    \n",
    "    return clean_text"
   ]
  },
  {
   "cell_type": "code",
   "execution_count": null,
   "metadata": {
    "scrolled": true
   },
   "outputs": [],
   "source": [
    "in_path  = \"./../boucled_scrapers/spiders/out/posts\"\n",
    "out_path = \"./../boucled_scrapers/spiders/out/posts/processed\" \n",
    "posts_df = sqlsc.read.json(in_path)\n",
    "timestamp_regex = \"(\\d{2})\\s(\\D{3,9})\\s(\\d{4})\\s[à]\\s(\\d{2}:\\d{2}:\\d{2})\"\n",
    "#g1:day|g2:month|g3:year|g4:time\n",
    "months = {\n",
    "        \"janvier\":\"01\",\n",
    "        \"février\":\"02\",\n",
    "        \"mars\":\"03\",\n",
    "        \"avril\":\"04\",\n",
    "        \"mai\":\"05\",\n",
    "        \"juin\":\"06\",\n",
    "        \"juillet\":\"07\",\n",
    "        \"août\":\"08\",\n",
    "        \"septembre\":\"09\",\n",
    "        \"octobre\":\"10\",\n",
    "        \"novembre\":\"11\",\n",
    "        \"décembre\":\"12\"}\n",
    "months_udf = udf(lambda x : months[x],StringType())\n",
    "posts_df = posts_df.withColumn(\"day\", regexp_extract(col(\"timestamp\"),timestamp_regex,1))\n",
    "posts_df = posts_df.withColumn(\"month\", regexp_extract(col(\"timestamp\"),timestamp_regex,2))\n",
    "posts_df = posts_df.withColumn(\"month\",months_udf(col(\"month\")))\n",
    "posts_df = posts_df.withColumn(\"year\", regexp_extract(col(\"timestamp\"),timestamp_regex,3))\n",
    "posts_df = posts_df.withColumn(\"time\", regexp_extract(col(\"timestamp\"),timestamp_regex,4))\n",
    "\n",
    "udf_clean_text = udf(lambda x : clean_post_text(x),StringType())\n",
    "posts_df = posts_df.withColumn(\"post_text\",udf_clean_text(col(\"post_text\")))\n",
    "posts_df.show(5)"
   ]
  },
  {
   "cell_type": "code",
   "execution_count": null,
   "metadata": {
    "scrolled": true
   },
   "outputs": [],
   "source": [
    "final_df = posts_df.select(\"author\", \"page\", \"post_id\", \n",
    "                \"post_text\", \"topic_id\", \"day\",\n",
    "                \"month\", \"year\",\"time\")\n",
    "final_df = final_df.withColumn(\"post_id\",final_df[\"post_id\"].cast(IntegerType()))\n",
    "final_df = final_df.withColumn(\"topic_id\",final_df[\"topic_id\"].cast(IntegerType()))\n",
    "final_df = final_df.withColumn(\"day\",final_df[\"day\"].cast(IntegerType()))\n",
    "final_df = final_df.withColumn(\"month\",final_df[\"month\"].cast(IntegerType()))\n",
    "final_df = final_df.withColumn(\"year\",final_df[\"year\"].cast(IntegerType()))\n",
    "#output_df = df_cust.withColumn(\"zip\",df_cust[\"zip\"].cast(StringType()))\n",
    "final_df.write.format('jdbc').options(\n",
    "  url='jdbc:postgresql://localhost:5432/boucled',\n",
    "  driver='org.postgresql.Driver',\n",
    "  dbtable='posts',\n",
    "  user='postgres',\n",
    "  password='password').mode('append').save()\n"
   ]
  },
  {
   "cell_type": "code",
   "execution_count": null,
   "metadata": {},
   "outputs": [],
   "source": [
    "out_dir = os.listdir(in_path)\n",
    "for file_name in out_dir:\n",
    "    shutil.move(os.path.join(in_path, file_name), out_path)"
   ]
  },
  {
   "cell_type": "code",
   "execution_count": null,
   "metadata": {},
   "outputs": [],
   "source": []
  }
 ],
 "metadata": {
  "kernelspec": {
   "display_name": "Python 3",
   "language": "python",
   "name": "python3"
  },
  "language_info": {
   "codemirror_mode": {
    "name": "ipython",
    "version": 3
   },
   "file_extension": ".py",
   "mimetype": "text/x-python",
   "name": "python",
   "nbconvert_exporter": "python",
   "pygments_lexer": "ipython3",
   "version": "3.8.10"
  }
 },
 "nbformat": 4,
 "nbformat_minor": 4
}
