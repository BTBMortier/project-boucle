{
 "cells": [
  {
   "cell_type": "code",
   "execution_count": 14,
   "metadata": {},
   "outputs": [],
   "source": [
    "import re \n",
    "import os\n",
    "import json\n",
    "import shutil\n",
    "import psycopg2\n",
    "from bs4 import BeautifulSoup\n",
    "\n",
    "from pyspark.sql import Row\n",
    "from pyspark import SparkConf\n",
    "from pyspark import SparkContext\n",
    "from pyspark.sql import SQLContext\n",
    "from pyspark.sql import SparkSession\n",
    "from pyspark.sql.types import StringType,IntegerType\n",
    "from pyspark.sql.functions import udf,col,regexp_extract,regexp_replace\n",
    "\n",
    "conf = SparkConf()  # create the configuration\n",
    "conf.set(\"spark.jars\", \"postgresql-42.2.6.jar\")\n",
    "\n",
    "sc = SparkSession \\\n",
    "    .builder \\\n",
    "    .config(\"spark.driver.extraClassPath\", \"./postgresql-42.2.6.jar\") \\\n",
    "    .appName(\"boucled\") \\\n",
    "    .getOrCreate()\n",
    "\n",
    "sqlsc = SQLContext(sc)"
   ]
  },
  {
   "cell_type": "code",
   "execution_count": 9,
   "metadata": {},
   "outputs": [
    {
     "name": "stdout",
     "output_type": "stream",
     "text": [
      "+--------------------+-------------+---------+-------+--------------------+--------------------+--------+\n",
      "|                 _id|       author|mod_title|n_posts|               title|               topic|topic_id|\n",
      "+--------------------+-------------+---------+-------+--------------------+--------------------+--------+\n",
      "|6284d856dd104e9ff...|  Shadow_man1|        0|     18|Pourquoi les gens...|https://www.jeuxv...|69748048|\n",
      "|6284d856dd104e9ff...|     Zoom2022|        0|     31|AYAAAA POST OU CA...|https://www.jeuxv...|69717756|\n",
      "|6284d856dd104e9ff...| TrollLutteur|        0|     50|Ma cousine de 19 ...|https://www.jeuxv...|69747925|\n",
      "|6284d856dd104e9ff...|MichellAngelo|        0|     79|Si SEULEMENT j'ét...|https://www.jeuxv...|69748029|\n",
      "|6284d856dd104e9ff...| DistribPLS16|        0|      5|Y a AUCUN BOULOT ...|https://www.jeuxv...|69747929|\n",
      "+--------------------+-------------+---------+-------+--------------------+--------------------+--------+\n",
      "only showing top 5 rows\n",
      "\n"
     ]
    }
   ],
   "source": [
    "topics_df.show(5)"
   ]
  },
  {
   "cell_type": "code",
   "execution_count": 15,
   "metadata": {},
   "outputs": [],
   "source": [
    "in_path  = \"/usr/src/app/project-boucle/src/boucled_scrapers/spiders/out/topics\"\n",
    "out_path = \"/usr/src/app/project-boucle/src/boucled_scrapers/spiders/out/topics/processed\" \n",
    "topics_df = sqlsc.read.json(in_path)\n",
    "#Relier date/heure du premier d'un id topic a l'entrée topic dans la postgres avec un \n",
    "#rownum\n",
    "final_df = topics_df.select(\"author\", \"title\", \"mod_title\", \"topic_id\")\n",
    "final_df = final_df.withColumn(\"topic_id\",final_df[\"topic_id\"].cast(IntegerType()))\n",
    "final_df.write.format('jdbc').options(\n",
    "  url='jdbc:postgresql://localhost:5432/boucled',\n",
    "  driver='org.postgresql.Driver',\n",
    "  dbtable='topics',\n",
    "  user='postgres',\n",
    "  password='password').mode('append').save()\n",
    "\n",
    "conn = psycopg2.connect(dbname=\"boucled\", user=\"postgres\",\n",
    "                        password=\"password\", host=\"localhost\")\n",
    "conn.autocommit = True \n",
    "cur = conn.cursor()\n",
    "cur.execute(\"\"\"\n",
    "DELETE FROM topics\n",
    "WHERE pk_id IN\n",
    "    (SELECT pk_id\n",
    "    FROM\n",
    "        (SELECT pk_id,\n",
    "        ROW_NUMBER() OVER(PARTITION BY title \n",
    "        ORDER BY pk_id) AS row_num\n",
    "        FROM topics) temp_table\n",
    "        WHERE temp_table.row_num > 1);\n",
    "\"\"\")\n",
    "cur.close()\n",
    "conn.close()"
   ]
  },
  {
   "cell_type": "code",
   "execution_count": null,
   "metadata": {},
   "outputs": [],
   "source": [
    "out_dir = os.listdir(in_path)\n",
    "for file_name in out_dir:\n",
    "    shutil.move(os.path.join(in_path, file_name), out_path)"
   ]
  }
 ],
 "metadata": {
  "kernelspec": {
   "display_name": "Python 3",
   "language": "python",
   "name": "python3"
  },
  "language_info": {
   "codemirror_mode": {
    "name": "ipython",
    "version": 3
   },
   "file_extension": ".py",
   "mimetype": "text/x-python",
   "name": "python",
   "nbconvert_exporter": "python",
   "pygments_lexer": "ipython3",
   "version": "3.8.10"
  }
 },
 "nbformat": 4,
 "nbformat_minor": 4
}
